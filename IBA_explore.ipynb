{
 "cells": [
  {
   "cell_type": "markdown",
   "metadata": {},
   "source": [
    "# Exploring and explaining the Improved Born Approximation"
   ]
  },
  {
   "cell_type": "markdown",
   "metadata": {},
   "source": [
    "Imagine a thin beam of microwave energy travelling along the z axis, through a small volume of snow\n",
    "\n",
    "The intensity of the beam (I) is *attenuated* as it travels.\n",
    "\n",
    "This is partly because energy is absorbed, and partly because energy is *scattered out of the beam*\n",
    "\n",
    "Aside: If energy is scattered out of the beam, then why isn't energy scattered back in from other beams? Let's assume that the radar is incident from a point source. Beams therefore don't overlap. So a photon must be scattered out of Beam A, and then scattered *again* while crossing Beam B into the direction of Beam B. This involves two scattering events. If scattering is weak then we can ignore this in our modelling - it's just very unlikely that photons are scattered twice in the snow. This is known as the *single scattering assumption*. "
   ]
  },
  {
   "cell_type": "markdown",
   "metadata": {},
   "source": [
    "An expression for the attenuation:\n",
    "\n",
    "### $I = I_0 e^{-\\gamma_e z}$\n",
    "\n",
    "This is an equation for exponential decay, where $\\gamma_e$ is a coefficient of extinction.\n",
    "The higher $\\gamma_e$, the faster the power in our radar beam drops off.\n",
    "\n",
    "We can express $\\gamma_e$ as the sum of two parts, for absorption and scattering:\n",
    "\n",
    "### $\\gamma_e = \\gamma_a + \\gamma_s$\n",
    "\n",
    "What is the physical meaning of these two parts? When a radar wave travels through a dielectirc material like snow or ice, it **polarises** the material. It does this by moving electrons around, and this isn't free: it takes energy. The absorption component of the extinction coefficient represents energy loss to moving electrons around. Because the radar wave is oscillating, it induces an oscillating polarisation. When electrons oscillate, they emit radiation - this is scattering. \n",
    "\n",
    "Aside: The direction of scattering from an oscillating dipole is given by a distribution - for a sphere this is a sin$^2\\theta$ distribution, where $\\theta$ is the angle between the *incident E field* and the scattered direction. Then why do we get specular scattering from a smooth surface? That's just loads of dipoles on the surface being polarised, right? This is a *coherent effect*, where (because we've aranged the dipoles in a line) the amplitude of scattered waves in all directions apart from the angle of reflection cancel out.\n",
    "\n",
    "So we've got a physical intuition for the source of $\\gamma_a$ & $\\gamma_s$, but what are they? Matzler (1998) made the \"Improved Born Approximation\" for scattering and adsorbtion in a granular medium of spheres:\n",
    "\n",
    "![gamma_s](gamma_s.png)\n",
    "![gamma_a](gamma_a.png)\n",
    "\n",
    "Here $p_c$ is the snow correlation length (similar to the grain size), $k$ is the wavenumber ($2\\pi f$), $\\nu$ is the volume fraction of ice (very similar to the mass density), $\\epsilon_1$ is the relative permittivity of air (just 1), and \\$epsilon_2$ is the relative permittivity of pure ice (a complex number). $\\epsilon_{eff}$ is a complicated combination of $\\epsilon_1$ & $\\epsilon_2$. This term and the nature of the combination is the approximation that gives IBA its name. \n",
    "\n",
    "Aside: What are the units of $\\gamma_a$ & $\\gamma_s$? If you did a dimensional analysis, you'd find they have units of $m^{-1}$. Specifically, they have units of **Nepers per meter**. A Neper (Np) is just like a decibel (dB), except where a dB uses log base 10, a Np uses base $e$. Because they're both exponential units of relative difference, they're simply related as 1 Np = 8.886 dB."
   ]
  },
  {
   "cell_type": "markdown",
   "metadata": {},
   "source": [
    "# How do $\\gamma_s$ & $\\gamma_a$ vary with snow geophysical properties?"
   ]
  },
  {
   "cell_type": "code",
   "execution_count": 2,
   "metadata": {},
   "outputs": [
    {
     "data": {
      "application/vnd.jupyter.widget-view+json": {
       "model_id": "8b20bb8280924ac9bbdc8a05168bdef0",
       "version_major": 2,
       "version_minor": 0
      },
      "text/plain": [
       "interactive(children=(FloatSlider(value=-4.0, description='T ($^{\\\\circ}$C)', max=0.0, min=-40.0, step=2.0), F…"
      ]
     },
     "metadata": {},
     "output_type": "display_data"
    }
   ],
   "source": [
    "from IBA_tools import make_interactive_plot\n",
    "\n",
    "make_interactive_plot()"
   ]
  },
  {
   "cell_type": "markdown",
   "metadata": {},
   "source": [
    "# Suggestions for using the above interactive graph\n",
    "\n",
    "Begin with the default settings - you can access these by just re-running the cell (shift enter). With the correlation length (CL) set to 0.1 mm, you'll see that absorption is the dominant contributor to the total extinction. This becomes more obvious by changing the y axis to a log scale (use the Y Scale button). Absorption is two orders of magnitude larger than scattering at every frequency. \n",
    "\n",
    "Have a play around with the temperature and density sliders. You'll see that you can alter the relative differences. With the log scale you'll see that this doesn't do a lot. The biggest change is at low frequencies (<5 GHz) when you go from a low to a high temperature. Absorption is dominant with a CL at 0.1 mm.\n",
    "\n",
    "Now change the CL to 0.5 mm. This is not an unreasonable correlation length by any means! You'll see immediately that scattering becomes *much more significant contributor* to scattering at higher frequencies. It overtakes adsorbtion at 25 GHz and at 30 GHz (Ka band), it's 50 % larger.\n",
    "\n",
    "# Upscaling from a thin beam to a layered snowpack\n",
    "\n",
    "The take-home from this is that for snow with larger grains (old snow that's been subjected to significant temperature gradients), **scattering is significant**. From a modelling perspective, this seriously calls into doubt the single scattering assumption. From a remote-sensing perspective, we can see that radar from Altika can penetrate snow with a fine structure, but won't penetrate snow with a coarser structure. This indicates that when we look at KuKa returns from below the snow-ice interface, layers with large grains will strongly backscatter. Layers with fine structure will be much less visible. Coarser grains scatter more with a power-4 relationship, whereas they absorb more with a linear relationship (see equations above). So increasing the grain size makes them much more scattering, but only a bit more absorbing.\n",
    "\n",
    "So what does this mean for the concept of 'Penetration Depth'?"
   ]
  },
  {
   "cell_type": "code",
   "execution_count": null,
   "metadata": {},
   "outputs": [],
   "source": []
  }
 ],
 "metadata": {
  "kernelspec": {
   "display_name": "Python 3",
   "language": "python",
   "name": "python3"
  },
  "language_info": {
   "codemirror_mode": {
    "name": "ipython",
    "version": 3
   },
   "file_extension": ".py",
   "mimetype": "text/x-python",
   "name": "python",
   "nbconvert_exporter": "python",
   "pygments_lexer": "ipython3",
   "version": "3.7.9"
  }
 },
 "nbformat": 4,
 "nbformat_minor": 4
}
