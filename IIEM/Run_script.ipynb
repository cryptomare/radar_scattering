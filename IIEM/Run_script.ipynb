{
 "cells": [
  {
   "cell_type": "code",
   "execution_count": 26,
   "metadata": {},
   "outputs": [],
   "source": [
    "from two_scale import backscatter\n",
    "import tqdm\n",
    "import numpy as np\n",
    "import matplotlib.pyplot as plt\n",
    "import ipywidgets as wg\n",
    "from matplotlib.widgets import Slider, Button, RadioButtons\n",
    "\n",
    "def get_series(fr, sig1, L1, sig2, L2, er, angles):\n",
    "    \n",
    "    fr = 10\n",
    "    \n",
    "    er = complex(er, 1)\n",
    "\n",
    "    output = {'VV': [],\n",
    "              'HH': [],\n",
    "              'HV': []}\n",
    "\n",
    "    for theta in angles:\n",
    "\n",
    "        sigma_0_vv, sigma_0_hh = backscatter(fr, sig1, L1, sig2, L2, theta, er)\n",
    "        \n",
    "        output['VV'].append(sigma_0_vv)\n",
    "        output['HH'].append(sigma_0_hh)\n",
    "        \n",
    "    return(output)\n",
    "\n",
    "    \n",
    "\n",
    "def plot(sig1,\n",
    "         sig2,\n",
    "         L1,\n",
    "         L2,\n",
    "         er):\n",
    "\n",
    "    fr = 10\n",
    "    \n",
    "    angles = np.arange(5,65,5)\n",
    "    \n",
    "    output = get_series(fr, sig1, L1, sig2, L2, er, angles)\n",
    "\n",
    "    plt.plot(angles,output['VV'],label='VV')\n",
    "    plt.plot(angles,output['HH'],label='HH')\n",
    "    plt.legend()\n",
    "    plt.show()"
   ]
  },
  {
   "cell_type": "code",
   "execution_count": 27,
   "metadata": {},
   "outputs": [
    {
     "data": {
      "application/vnd.jupyter.widget-view+json": {
       "model_id": "658b887bb13f42389c35aa07474d2d6a",
       "version_major": 2,
       "version_minor": 0
      },
      "text/plain": [
       "interactive(children=(FloatSlider(value=0.01, description='$\\\\sigma$1', max=0.03, min=0.005, step=0.005), Floa…"
      ]
     },
     "metadata": {},
     "output_type": "display_data"
    },
    {
     "data": {
      "text/plain": [
       "<function __main__.plot(sig1, sig2, L1, L2, er)>"
      ]
     },
     "execution_count": 27,
     "metadata": {},
     "output_type": "execute_result"
    }
   ],
   "source": [
    "%matplotlib inline\n",
    "\n",
    "sig1_slide = wg.FloatSlider(value=0.01,\n",
    "                           min=0.005,\n",
    "                           max=0.03,\n",
    "                           step=0.005,\n",
    "                           description=r'$\\sigma$1')\n",
    "\n",
    "sig2_slide = wg.FloatSlider(value=0.001,\n",
    "                            min=0.001,\n",
    "                            max=0.005,\n",
    "                            step=0.001,\n",
    "                            description=r'$\\sigma$2')\n",
    "\n",
    "L1_slide = wg.FloatSlider(value=0.07,\n",
    "                           min=0,\n",
    "                           max=0.07,\n",
    "                           step=0.01,\n",
    "                           description=r'$L1$')\n",
    "\n",
    "\n",
    "L2_slide = wg.FloatSlider(value=0.007,\n",
    "                           min=0,\n",
    "                           max=0.01,\n",
    "                           step=0.001,\n",
    "                           description=r'$L2$')\n",
    "\n",
    "er_slide = wg.FloatSlider(value=9,\n",
    "                           min=1,\n",
    "                           max=15,\n",
    "                           step=1,\n",
    "                           \n",
    "                           description=r'$\\epsilon_r$')\n",
    "\n",
    "\n",
    "wg.interact(plot,\n",
    "            sig1=sig1_slide,\n",
    "            sig2=sig2_slide,\n",
    "            L1=L1_slide,\n",
    "            L2=L2_slide,\n",
    "            er=er_slide,         \n",
    "            )"
   ]
  },
  {
   "cell_type": "code",
   "execution_count": 12,
   "metadata": {},
   "outputs": [
    {
     "data": {
      "text/plain": [
       "<matplotlib.collections.PathCollection at 0x7f8f4f97c290>"
      ]
     },
     "execution_count": 12,
     "metadata": {},
     "output_type": "execute_result"
    },
    {
     "data": {
      "image/png": "[encoded data removed]",
      "text/plain": [
       "<Figure size 432x288 with 1 Axes>"
      ]
     },
     "metadata": {
      "needs_background": "light"
     },
     "output_type": "display_data"
    }
   ],
   "source": [
    "ka_real = [2,-2,-4,-8,-10.5,-12,-12,-12,-11.5,-10.5,-9]\n",
    "\n",
    "plt.scatter(np.arange(0,55,5),ka_real)"
   ]
  }
 ],
 "metadata": {
  "kernelspec": {
   "display_name": "Python 3",
   "language": "python",
   "name": "python3"
  },
  "language_info": {
   "codemirror_mode": {
    "name": "ipython",
    "version": 3
   },
   "file_extension": ".py",
   "mimetype": "text/x-python",
   "name": "python",
   "nbconvert_exporter": "python",
   "pygments_lexer": "ipython3",
   "version": "3.7.9"
  }
 },
 "nbformat": 4,
 "nbformat_minor": 4
}
