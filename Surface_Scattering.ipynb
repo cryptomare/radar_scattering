{
 "cells": [
  {
   "cell_type": "markdown",
   "metadata": {},
   "source": [
    "# Understanding Surface Scattering (as much as possible)\n",
    "\n",
    "When a beam of radiation is incident on a dielectric boundary (e.g. the snow surface), part of its energy is transmitted through the surface and part of it is reflected away from the surface. If the interface is *smooth* (like glass), then the physics is simple, and can be derived from continuity conditions for Maxwell's equations at the boundary.\n",
    "\n",
    "The coefficients of transmission and reflection at a smooth interface are known as the **Fresnel coefficients**. I won't go into the detail of the equations here. One key detail is that at a certain angle *all vertically polarized energy is transmitted*. This is known as **Brewster's Angle**. The horizontally polarized wave does not have similar behaviour. This is important as it means that less V-pol energy is generally reflected, and therefore less is backscattered to a radar. Brewster's angle is given by arctan($n_2$/$n_1$).\n",
    "\n"
   ]
  },
  {
   "cell_type": "markdown",
   "metadata": {},
   "source": [
    "## Explore the amount of energy reflected by a smooth surface at different incidence angles"
   ]
  },
  {
   "cell_type": "code",
   "execution_count": 12,
   "metadata": {},
   "outputs": [
    {
     "data": {
      "application/vnd.jupyter.widget-view+json": {
       "model_id": "3ab6b5d43b8c4f9299d211908fcb9dc3",
       "version_major": 2,
       "version_minor": 0
      },
      "text/plain": [
       "interactive(children=(FloatSlider(value=2.0, description='Refr Index, n', max=4.0, min=1.2, step=0.2), Output(…"
      ]
     },
     "metadata": {},
     "output_type": "display_data"
    }
   ],
   "source": [
    "from SS_tools import make_interactive_fresnel_plot, \\\n",
    "                     make_interactive_snell_plot, \\\n",
    "                     make_interactive_IIEM_plot1, \\\n",
    "                     make_interactive_IIEM_plot2\n",
    "\n",
    "make_interactive_fresnel_plot()"
   ]
  },
  {
   "cell_type": "code",
   "execution_count": 13,
   "metadata": {},
   "outputs": [
    {
     "data": {
      "application/vnd.jupyter.widget-view+json": {
       "model_id": "70820accd8944b9da8aa0da4c1c69c81",
       "version_major": 2,
       "version_minor": 0
      },
      "text/plain": [
       "interactive(children=(FloatSlider(value=40.0, description='Inc. Angle ($^{\\\\circ}$)', max=90.0, step=5.0), Flo…"
      ]
     },
     "metadata": {},
     "output_type": "display_data"
    }
   ],
   "source": [
    "make_interactive_snell_plot()"
   ]
  },
  {
   "cell_type": "markdown",
   "metadata": {},
   "source": [
    "## Rough Surfaces\n",
    "\n",
    "You may notice that a Fresnel surface gives no backscatter towards the radar instrument at non-normal incidence. When the wave hits the surface, part of it is transmitted into the material, and part is reflected symmetrically about the normal line. When plotted as a function of angle, the reflected power can be described by a delta function.\n",
    "\n",
    "Many geophysical surfaces are not smooth, but rough. Their roughness means that the reflected energy is reflected over a range of angles, rather than in just one direction. The angular distribution of reflected energy is closely linked to the geometrical properties of the surface. Furthermore, the amount of backscatter measured by a radar is closely linked to this angular distribution. As such, *the geometrical properties of a surface are a strong control on radar backscatter*.\n",
    "\n",
    "So how do we put these properties into a model? We'll take a case study of the Improved Integral Equation Model by [Fung et al. (2012)](https://www.tandfonline.com/doi/abs/10.1163/156939302X01119). In the IIEM (as with most other models, the roughness is parameterised with statistics. Three parameters that can describe the properties are: the standard deviation of the surface height ($\\sigma_h$), the correlation length of height anomalies (CL), and the correlation function of those height anomalies. The correlation function is frequently set to be a decaying exponential, although other functions are available within the IIEM. As the frequency of the incident radar increases, the wave 'sees' a surface of a given rms height as rougher. This is because a phase difference can be introduced between two waves by a smaller path difference when those waves are of a higher frequency. Similarly, a lower correlation length for a given frequency and a given rms height will result in a rougher reflection pattern, as the phase difference varies over shorter distances. \n",
    "\n",
    "The following interactive plot has the refractive index set to that of bare ice (n=3) and the correlation length set to 10 cm. You'll get a chance to vary these parameters in the final plot!"
   ]
  },
  {
   "cell_type": "code",
   "execution_count": 14,
   "metadata": {},
   "outputs": [
    {
     "data": {
      "application/vnd.jupyter.widget-view+json": {
       "model_id": "0737fbbbf5604d24b786b869efd3170b",
       "version_major": 2,
       "version_minor": 0
      },
      "text/plain": [
       "interactive(children=(FloatSlider(value=40.0, description='Inc. Angle ($^{\\\\circ}$)', max=90.0, step=5.0), Flo…"
      ]
     },
     "metadata": {},
     "output_type": "display_data"
    }
   ],
   "source": [
    "make_interactive_IIEM_plot1()"
   ]
  },
  {
   "cell_type": "markdown",
   "metadata": {},
   "source": [
    "# Surface scattering at Ka and Ku band frequencies\n",
    "\n",
    "So what are the implications of this stuff for Ka and Ku bands? \n",
    "\n",
    "For a smooth surface, the Fresnel coefficients are the same for the two frequencies. But what about the role of roughness? The interplay between correlation length and RMS height is relatively complex. The two are not naturally correlated, and both must be known for backscatter to be modelled. The correlation length dictates the spatial scale of the roughness, and it is known that radar responds most strongly to roughness at its spatial scale. i.e. Ku band will respond most strongly to roughness with a CL of 2.3cm, whereas Ka will respond most strongly to roughness at a CL of 1 cm. "
   ]
  },
  {
   "cell_type": "code",
   "execution_count": 17,
   "metadata": {},
   "outputs": [
    {
     "data": {
      "application/vnd.jupyter.widget-view+json": {
       "model_id": "4e954b308a9540c9b01b528b33aa4d79",
       "version_major": 2,
       "version_minor": 0
      },
      "text/plain": [
       "interactive(children=(FloatSlider(value=40.0, description='Inc. Angle ($^{\\\\circ}$)', max=90.0, step=5.0), Flo…"
      ]
     },
     "metadata": {},
     "output_type": "display_data"
    }
   ],
   "source": [
    " make_interactive_IIEM_plot2()"
   ]
  },
  {
   "cell_type": "code",
   "execution_count": null,
   "metadata": {},
   "outputs": [],
   "source": []
  }
 ],
 "metadata": {
  "kernelspec": {
   "display_name": "Python 3",
   "language": "python",
   "name": "python3"
  },
  "language_info": {
   "codemirror_mode": {
    "name": "ipython",
    "version": 3
   },
   "file_extension": ".py",
   "mimetype": "text/x-python",
   "name": "python",
   "nbconvert_exporter": "python",
   "pygments_lexer": "ipython3",
   "version": "3.7.9"
  }
 },
 "nbformat": 4,
 "nbformat_minor": 4
}
