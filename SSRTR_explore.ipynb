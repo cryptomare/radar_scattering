{
 "cells": [
  {
   "cell_type": "markdown",
   "metadata": {},
   "source": [
    "# Modelling backscatter from snow on sea ice including both volume and surface scattering."
   ]
  },
  {
   "cell_type": "markdown",
   "metadata": {},
   "source": [
    "## SSRT/R\n",
    "\n",
    "One such model is included with [Ulaby & Long 2014](http://mrs.eecs.umich.edu/codes/). It's described as the \"single scattering radiative tranfer with Rayleigh particles\" (SSRT/R). \n",
    "\n",
    "The model code is provided in MATLAB that I'll address after describing the basis of the model.\n",
    "\n",
    "### Basic functionality\n",
    "\n",
    "The model essentially has elements that deliver backscatter: two surfaces (ice and snow) and a volume. \n",
    "\n",
    "Incident energy may backscatter from:\n",
    "\n",
    "* the snow surface\n",
    "* the snow volume\n",
    "* the ice surface\n",
    "\n",
    "It may also bistatically scatter from the snow volume, either before or after it *reflects* from the ice surface, with that reflection being modelled as a Fresnel interaction (and so the whole process is single scattering). Finally, it may backscatter from the snow volume *in between* two reflected from the ice surface. These five interactions are summarised nicely in the following figure:\n",
    "\n",
    "<img src = pics/single_scattering_mechanisms.png width = \"300\">\n",
    "\n",
    "### Ulaby & Long Implementation\n",
    "\n",
    "The model is provided in MATLAB and is configured so that the semi-empirical PRISM model ([Oh et al., 1992](https://ieeexplore.ieee.org/document/134086)) provides the surface scattering. I've substituted the IIEM in for this ([Fung et al., 2012](https://www.tandfonline.com/doi/abs/10.1163/156939302X01119)). I've also translated it all into python. Finally I've configured it so that the volume scattering and attenuation is given by coefficients calculated from the Improved Born Approximation ([Matzler et al., 1998](https://aip.scitation.org/doi/10.1063/1.367496)). The model in the Ulaby book is 'driven' by coefficients calculated from the assumption that snow is an independent assembly of Mie-scattering spheres.\n",
    "\n",
    "### Cross-polarized returns\n",
    "\n",
    "The IIEM is capable of caclualating cross-polarised returns, but this is highly computatationally intensive. However, the volume scattering component of this model is not suitable due to the single scattering assumption. Therefore the use of this model is limited to co-polarised returns. "
   ]
  },
  {
   "cell_type": "code",
   "execution_count": 1,
   "metadata": {},
   "outputs": [
    {
     "data": {
      "application/vnd.jupyter.widget-view+json": {
       "model_id": "6b6fb1587c3c40df83ba9df9fce2bafc",
       "version_major": 2,
       "version_minor": 0
      },
      "text/plain": [
       "interactive(children=(FloatSlider(value=0.2, description='CL (mm)', max=1.5, min=0.1), FloatSlider(value=0.1, …"
      ]
     },
     "metadata": {},
     "output_type": "display_data"
    }
   ],
   "source": [
    "from SSRTR_tools import make_interactive_SSRTR_plot\n",
    "\n",
    "make_interactive_SSRTR_plot()"
   ]
  },
  {
   "cell_type": "code",
   "execution_count": null,
   "metadata": {},
   "outputs": [],
   "source": []
  },
  {
   "cell_type": "code",
   "execution_count": null,
   "metadata": {},
   "outputs": [],
   "source": []
  }
 ],
 "metadata": {
  "kernelspec": {
   "display_name": "Python 3",
   "language": "python",
   "name": "python3"
  },
  "language_info": {
   "codemirror_mode": {
    "name": "ipython",
    "version": 3
   },
   "file_extension": ".py",
   "mimetype": "text/x-python",
   "name": "python",
   "nbconvert_exporter": "python",
   "pygments_lexer": "ipython3",
   "version": "3.7.9"
  }
 },
 "nbformat": 4,
 "nbformat_minor": 4
}
